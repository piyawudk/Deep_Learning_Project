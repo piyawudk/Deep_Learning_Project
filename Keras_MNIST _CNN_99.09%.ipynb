{
  "cells": [
    {
      "cell_type": "markdown",
      "metadata": {
        "id": "buehBEIZjbKn"
      },
      "source": [
        "### **11-layers Mnist CNN 99.09% accuracy**\n",
        "\n",
        "**Piyawud Koonmanee 63110119**\\\n",
        "Date of Submission: 8-Mar-2022\\\n",
        "Runtime: \n",
        "- ~23 seconds using Nvidia T4 (from Google Colab)\n",
        "- ~4 minute 32 seconds using Intel Core i5-8300H"
      ]
    },
    {
      "cell_type": "code",
      "execution_count": 124,
      "metadata": {
        "colab": {
          "base_uri": "https://localhost:8080/"
        },
        "id": "z_-OgDu4jbK7",
        "outputId": "4c09d6b2-f305-4843-cb21-50c5db304a48"
      },
      "outputs": [
        {
          "name": "stdout",
          "output_type": "stream",
          "text": [
            "Once deleted, variables cannot be recovered. Proceed (y/[n])? y\n"
          ]
        }
      ],
      "source": [
        "%reset # clear the variables\n",
        "import tensorflow as tf\n",
        "import numpy as np\n",
        "import random\n",
        "\n",
        "from tensorflow.keras import Model, layers, Sequential\n",
        "from tensorflow.keras.datasets import mnist\n",
        "import matplotlib.pyplot as plt\n",
        "\n",
        "# setup the random state (seed) to obtain reproducible results\n",
        "np.random.seed(63110119) \n",
        "random.seed(63110119)\n",
        "tf.random.set_seed(63110119)"
      ]
    },
    {
      "cell_type": "code",
      "execution_count": 125,
      "metadata": {
        "colab": {
          "base_uri": "https://localhost:8080/"
        },
        "id": "nq7_XP8ejbLD",
        "outputId": "ea089034-e526-4085-e184-13a2733a23b6"
      },
      "outputs": [
        {
          "name": "stdout",
          "output_type": "stream",
          "text": [
            "MNIST Dataset Shapes:\n",
            "x_train: (60000, 28, 28, 1)\n",
            "y_train: (60000,)\n",
            "x_test: (10000, 28, 28, 1)\n",
            "y_test: (10000,)\n"
          ]
        }
      ],
      "source": [
        "# prepare dataset\n",
        "\n",
        "# MNIST dataset parameters\n",
        "num_classes = 10 # total classes (0-9 digits)\n",
        "num_features = 784 # data features (img shape: 28 X 28 = 784)\n",
        "\n",
        "# import and load MNIST data, split between test and train datasets\n",
        "(x_train, y_train), (x_test, y_test) = mnist.load_data()\n",
        "\n",
        "# convert pixel values to float32\n",
        "x_train, x_test = np.array(x_train, np.float32), np.array(x_test, np.float32)\n",
        "\n",
        "# normalize image pixcel values from [0, 255] to [0, 1]\n",
        "x_train, x_test = x_train/255.0 , x_test/255.0\n",
        "\n",
        "# set gray scale color channel (to make it work for Conv2D since it needs the dimenstion to be 4)\n",
        "x_train, x_test = np.expand_dims(x_train, axis=-1), np.expand_dims(x_test, axis=-1)\n",
        "\n",
        "# check the shape of MNIST data\n",
        "print('MNIST Dataset Shapes:')\n",
        "print('x_train: ' + str(x_train.shape))\n",
        "print('y_train: ' + str(y_train.shape))\n",
        "print('x_test: ' + str(x_test.shape))\n",
        "print('y_test: ' + str(y_test.shape))"
      ]
    },
    {
      "cell_type": "code",
      "execution_count": 126,
      "metadata": {
        "id": "jLpm2zYGjbLH"
      },
      "outputs": [],
      "source": [
        "# training parameters   \n",
        "learning_rate = 0.1\n",
        "training_epochs = 2000\n",
        "batch_size = 256\n",
        "display_step = 100"
      ]
    },
    {
      "cell_type": "code",
      "execution_count": 127,
      "metadata": {
        "id": "PxFWmxWijbLJ"
      },
      "outputs": [],
      "source": [
        "# network parameters\n",
        "n_hidden_1 = 32\n",
        "n_hidden_2 = 64 \n",
        "n_hidden_3 = 128"
      ]
    },
    {
      "cell_type": "code",
      "execution_count": 128,
      "metadata": {
        "id": "T7G_kreOjbLd"
      },
      "outputs": [],
      "source": [
        "# # use tf.data API to shuffle and batch data\n",
        "train_data = tf.data.Dataset.from_tensor_slices((x_train, y_train))\n",
        "train_data = train_data.repeat().shuffle(5000).batch(batch_size).prefetch(1)"
      ]
    },
    {
      "cell_type": "code",
      "execution_count": 129,
      "metadata": {
        "id": "3dR880IJjbLf"
      },
      "outputs": [],
      "source": [
        "# create MNIST architecture\n",
        "class ConvNeuralNet(Model):\n",
        "    \n",
        "    # set layers\n",
        "    def __init__(self):\n",
        "        super(ConvNeuralNet, self).__init__()\n",
        "        \n",
        "        # using Sequential() to avoid passing many variables in forward pass (call function)\n",
        "        # easier to edit or change the layer\n",
        "        self.model = Sequential()\n",
        "\n",
        "        # first CNN layer\n",
        "        self.model.add(layers.Conv2D(n_hidden_1, (3,3), activation=tf.nn.relu, kernel_initializer='he_uniform')) # initialize the weight matrix randomly using uniform distribution method (he_uniform)\n",
        "        self.model.add(layers.MaxPool2D((2,2))) # downsample data to half for speed\n",
        "        self.model.add(layers.Dropout(0.5)) # using dropout to make the model less rely on weight (prevent overfit)\n",
        "        \n",
        "        # second CNN layer\n",
        "        self.model.add(layers.Conv2D(n_hidden_2, (3,3), activation=tf.nn.relu, kernel_initializer='he_uniform'))\n",
        "        self.model.add(layers.MaxPool2D((2,2)))\n",
        "        self.model.add(layers.Dropout(0.5))\n",
        "\n",
        "        # third CNN layer\n",
        "        self.model.add(layers.Conv2D(n_hidden_3, (3,3), activation=tf.nn.relu, kernel_initializer='he_uniform'))\n",
        "        self.model.add(layers.Dropout(0.5))\n",
        "\n",
        "        self.model.add(layers.Flatten())  # flatten features in to a single column\n",
        "        self.model.add(layers.Dense(units = 64, activation=tf.nn.relu))\n",
        "\n",
        "        # output layer\n",
        "        self.model.add(layers.Dense(units = num_classes)) # combine to 10 classes\n",
        "\n",
        "    # set forward pass\n",
        "    def call(self, x, is_training = False):    \n",
        "        \n",
        "        x = self.model(x)\n",
        "\n",
        "        if not is_training:\n",
        "            \n",
        "            # tf cross entropy expect logits without softmax, so only\n",
        "            # apply softmax when not training.\n",
        "            tf.nn.softmax(x)\n",
        "        return x"
      ]
    },
    {
      "cell_type": "code",
      "execution_count": 130,
      "metadata": {
        "id": "YwUWeBhhjbLk"
      },
      "outputs": [],
      "source": [
        "# build Convolutional neural network model\n",
        "cnn = ConvNeuralNet()"
      ]
    },
    {
      "cell_type": "code",
      "execution_count": 131,
      "metadata": {
        "id": "7p2CTvmajbLm"
      },
      "outputs": [],
      "source": [
        "# initialize variables with Xavier uniform\n",
        "shape = (num_features, num_classes)\n",
        "initializer = tf.initializers.GlorotUniform()\n",
        "trainable_variables = tf.Variable(initializer(shape = shape))"
      ]
    },
    {
      "cell_type": "code",
      "execution_count": 132,
      "metadata": {
        "id": "Qdw50xjujbLs"
      },
      "outputs": [],
      "source": [
        "# Cross-Entropy loss\n",
        "# note that this will apply 'softmax' to the logits\n",
        "def cross_entropy_loss(x, y):\n",
        "    \n",
        "    # convert labels to int 64 for tf cross-entropy function\n",
        "    y = tf.cast(y, tf.int64)\n",
        "    \n",
        "    # apply softmax to logits and compute cross-entropy\n",
        "    loss = tf.nn.sparse_softmax_cross_entropy_with_logits(labels = y, logits = x)\n",
        "    \n",
        "    # average loss across the batch\n",
        "    return tf.reduce_mean(loss)"
      ]
    },
    {
      "cell_type": "code",
      "execution_count": 133,
      "metadata": {
        "id": "sl0wEaCqjbLx"
      },
      "outputs": [],
      "source": [
        "# accuracy metric\n",
        "def accuracy(y_pred, y_true):\n",
        "    \n",
        "    # predicted class is the index of highest score in prediction vector (i.e. argmax)\n",
        "    correct_prediction = tf.equal(tf.argmax(y_pred, 1), tf.cast(y_true, tf.int64))\n",
        "    \n",
        "    return tf.reduce_mean(tf.cast(correct_prediction, tf.float32), axis=-1)"
      ]
    },
    {
      "cell_type": "code",
      "execution_count": 134,
      "metadata": {
        "id": "tBfdyTADjbLx"
      },
      "outputs": [],
      "source": [
        "# Stochastic gradient descent optimizer\n",
        "optimizer = tf.keras.optimizers.SGD(learning_rate)\n",
        "\n",
        "# set up an optimization (forward propagation and backpropagation) process \n",
        "def run_optimization(x, y):\n",
        "\n",
        "    # wrap computation inside a GradientTape for automatic differentiation\n",
        "    with tf.GradientTape() as g:\n",
        "        \n",
        "        # forward pass\n",
        "        pred = cnn(x, is_training = True)\n",
        "        \n",
        "        # compute loss\n",
        "        loss = cross_entropy_loss(pred, y)\n",
        "        \n",
        "    # variables to update, i.e. trainable variables\n",
        "    trainable_variables = cnn.trainable_variables\n",
        "\n",
        "    # compute gradients\n",
        "    gradients = g.gradient(loss, trainable_variables)\n",
        "    \n",
        "    # apply the gradients to update 𝜃 and 𝜃_0  \n",
        "    optimizer.apply_gradients(zip(gradients, trainable_variables))"
      ]
    },
    {
      "cell_type": "code",
      "execution_count": 135,
      "metadata": {
        "colab": {
          "base_uri": "https://localhost:8080/"
        },
        "id": "VC_Ywv9LjbLy",
        "outputId": "7966b2dd-2c2c-4df1-8c29-bef0e8fb0337"
      },
      "outputs": [
        {
          "name": "stdout",
          "output_type": "stream",
          "text": [
            "step: 100, loss: 0.177339, accuracy: 0.941406\n",
            "step: 200, loss: 0.151166, accuracy: 0.957031\n",
            "step: 300, loss: 0.049901, accuracy: 0.984375\n",
            "step: 400, loss: 0.062253, accuracy: 0.984375\n",
            "step: 500, loss: 0.101288, accuracy: 0.972656\n",
            "step: 600, loss: 0.053857, accuracy: 0.988281\n",
            "step: 700, loss: 0.015418, accuracy: 1.000000\n",
            "step: 800, loss: 0.012964, accuracy: 1.000000\n",
            "step: 900, loss: 0.061007, accuracy: 0.984375\n",
            "step: 1000, loss: 0.012826, accuracy: 1.000000\n",
            "step: 1100, loss: 0.005304, accuracy: 1.000000\n",
            "step: 1200, loss: 0.018710, accuracy: 0.996094\n",
            "step: 1300, loss: 0.009381, accuracy: 1.000000\n",
            "step: 1400, loss: 0.019845, accuracy: 0.996094\n",
            "step: 1500, loss: 0.009746, accuracy: 1.000000\n",
            "step: 1600, loss: 0.024504, accuracy: 0.996094\n",
            "step: 1700, loss: 0.018120, accuracy: 0.996094\n",
            "step: 1800, loss: 0.007732, accuracy: 1.000000\n",
            "step: 1900, loss: 0.010350, accuracy: 1.000000\n",
            "step: 2000, loss: 0.013916, accuracy: 0.992188\n",
            "Test Accuracy: 0.990900\n"
          ]
        }
      ],
      "source": [
        "# run training for the given number of steps\n",
        "for step, (batch_x, batch_y) in enumerate(train_data.take(training_epochs), 1):\n",
        "    \n",
        "    # run the optimization process to update 𝜃 and 𝜃_0 values\n",
        "    run_optimization(batch_x, batch_y)\n",
        "    \n",
        "    if step % display_step == 0:\n",
        "        pred = cnn(batch_x, is_training = True)\n",
        "        loss = cross_entropy_loss(pred, batch_y)\n",
        "        acc = accuracy(pred, batch_y)\n",
        "        print(\"step: %i, loss: %f, accuracy: %f\" % (step, loss, acc))\n",
        "        \n",
        "# test the proposed model on validation set\n",
        "pred = cnn(x_test, is_training = False)\n",
        "print(\"Test Accuracy: %f\" % accuracy(pred, y_test))"
      ]
    },
    {
      "cell_type": "code",
      "execution_count": 136,
      "metadata": {
        "colab": {
          "base_uri": "https://localhost:8080/",
          "height": 320
        },
        "id": "EJeMYCysplAm",
        "outputId": "ac604e3f-2c01-4ed6-bb4d-c0cb014ea6bf"
      },
      "outputs": [
        {
          "name": "stdout",
          "output_type": "stream",
          "text": [
            "Prediction: 9\n"
          ]
        },
        {
          "data": {
            "image/png": "[encoded data removed]",
            "text/plain": [
              "<Figure size 432x288 with 1 Axes>"
            ]
          },
          "metadata": {
            "needs_background": "light"
          },
          "output_type": "display_data"
        }
      ],
      "source": [
        "# testing out the prediction\n",
        "img = x_test[random.randint(0, 10000)]\n",
        "plt.imshow(np.squeeze(img), cmap='gray')\n",
        "\n",
        "img = img.reshape(1,img.shape[0],img.shape[1],img.shape[2])\n",
        "pred_val = cnn.predict(img)\n",
        "print(\"Prediction:\",np.argmax(pred_val))"
      ]
    },
    {
      "cell_type": "code",
      "execution_count": 137,
      "metadata": {
        "colab": {
          "base_uri": "https://localhost:8080/"
        },
        "id": "iqn12Kcy50Lb",
        "outputId": "0bbe3576-a958-479e-ca9b-9790dfd2f1e4"
      },
      "outputs": [
        {
          "name": "stdout",
          "output_type": "stream",
          "text": [
            "Model: \"sequential_8\"\n",
            "_________________________________________________________________\n",
            " Layer (type)                Output Shape              Param #   \n",
            "=================================================================\n",
            " conv2d_26 (Conv2D)          (None, 26, 26, 32)        320       \n",
            "                                                                 \n",
            " max_pooling2d_16 (MaxPoolin  (None, 13, 13, 32)       0         \n",
            " g2D)                                                            \n",
            "                                                                 \n",
            " dropout_24 (Dropout)        (None, 13, 13, 32)        0         \n",
            "                                                                 \n",
            " conv2d_27 (Conv2D)          (None, 11, 11, 64)        18496     \n",
            "                                                                 \n",
            " max_pooling2d_17 (MaxPoolin  (None, 5, 5, 64)         0         \n",
            " g2D)                                                            \n",
            "                                                                 \n",
            " dropout_25 (Dropout)        (None, 5, 5, 64)          0         \n",
            "                                                                 \n",
            " conv2d_28 (Conv2D)          (None, 3, 3, 128)         73856     \n",
            "                                                                 \n",
            " dropout_26 (Dropout)        (None, 3, 3, 128)         0         \n",
            "                                                                 \n",
            " flatten_8 (Flatten)         (None, 1152)              0         \n",
            "                                                                 \n",
            " dense_16 (Dense)            (None, 64)                73792     \n",
            "                                                                 \n",
            " dense_17 (Dense)            (None, 10)                650       \n",
            "                                                                 \n",
            "=================================================================\n",
            "Total params: 167,114\n",
            "Trainable params: 167,114\n",
            "Non-trainable params: 0\n",
            "_________________________________________________________________\n"
          ]
        }
      ],
      "source": [
        "# model summary: 11 layers\n",
        "cnn.model.summary()"
      ]
    }
  ],
  "metadata": {
    "accelerator": "GPU",
    "colab": {
      "collapsed_sections": [],
      "name": "MNIST CNN.ipynb",
      "provenance": []
    },
    "interpreter": {
      "hash": "bc0d9efdec36a4ba009433853d154b34a3e85cbb49bb5851e9d5bdf304782e05"
    },
    "kernelspec": {
      "display_name": "Python 3.9.7 ('base')",
      "language": "python",
      "name": "python3"
    },
    "language_info": {
      "codemirror_mode": {
        "name": "ipython",
        "version": 3
      },
      "file_extension": ".py",
      "mimetype": "text/x-python",
      "name": "python",
      "nbconvert_exporter": "python",
      "pygments_lexer": "ipython3",
      "version": "3.9.7"
    },
    "orig_nbformat": 4
  },
  "nbformat": 4,
  "nbformat_minor": 0
}
